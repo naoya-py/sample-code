{
 "cells": [
  {
   "cell_type": "code",
   "execution_count": 1,
   "id": "25897334",
   "metadata": {},
   "outputs": [
    {
     "name": "stdout",
     "output_type": "stream",
     "text": [
      ">>> ジェネレータ関数呼び出し\n",
      "\n",
      ">>> ジェネレータから値を取得 (forループ)\n",
      "========================================\n",
      "+++ ジェネレータ関数 開始 +++\n",
      "========================================\n",
      "------------------------------\n",
      "  ループ 1/3 回目:\n",
      "    yield前のi: 0\n",
      "    yieldする値: 0\n",
      "  取得した値: 0\n",
      "    yield後のi: 0\n",
      "------------------------------\n",
      "------------------------------\n",
      "  ループ 2/3 回目:\n",
      "    yield前のi: 1\n",
      "    yieldする値: 2\n",
      "  取得した値: 2\n",
      "    yield後のi: 1\n",
      "------------------------------\n",
      "------------------------------\n",
      "  ループ 3/3 回目:\n",
      "    yield前のi: 2\n",
      "    yieldする値: 4\n",
      "  取得した値: 4\n",
      "    yield後のi: 2\n",
      "------------------------------\n",
      "========================================\n",
      "+++ ジェネレータ関数 終了 +++\n",
      "========================================\n",
      "\n",
      ">>> ジェネレータ式 (内包表記)\n",
      "ジェネレータ式: x = 0\n",
      " ジェネレータ式から取得: 0\n",
      "ジェネレータ式: x = 1\n",
      " ジェネレータ式から取得: 3\n",
      "ジェネレータ式: x = 2\n",
      " ジェネレータ式から取得: 6\n",
      "ジェネレータ式: x = 3\n",
      " ジェネレータ式から取得: 9\n"
     ]
    }
   ],
   "source": [
    "def my_generator(n):\n",
    "    print(\"=\" * 40)\n",
    "    print(\"+++ ジェネレータ関数 開始 +++\")\n",
    "    print(\"=\" * 40)\n",
    "    try:\n",
    "        for i in range(n):\n",
    "            print(\"-\" * 30)\n",
    "            print(f\"  ループ {i+1}/{n} 回目:\")\n",
    "            print(f\"    yield前のi: {i}\")\n",
    "            yield_value = i * 2\n",
    "            print(f\"    yieldする値: {yield_value}\")\n",
    "            yield yield_value\n",
    "            print(f\"    yield後のi: {i}\")  # yield後に処理が再開されることを示す\n",
    "            print(\"-\" * 30)\n",
    "    except Exception as e:\n",
    "        print(\"!\" * 30)\n",
    "        print(f\"!!! 例外発生: {e}\")\n",
    "        print(\"!\" * 30)\n",
    "    finally:\n",
    "        print(\"=\" * 40)\n",
    "        print(\"+++ ジェネレータ関数 終了 +++\")\n",
    "        print(\"=\" * 40)\n",
    "\n",
    "print(\">>> ジェネレータ関数呼び出し\")\n",
    "gen = my_generator(3)\n",
    "\n",
    "print(\"\\n>>> ジェネレータから値を取得 (forループ)\")\n",
    "for value in gen:\n",
    "    print(f\"  取得した値: {value}\")\n",
    "\n",
    "print(\"\\n>>> ジェネレータ式 (内包表記)\")\n",
    "gen_exp = (x * 3 for x in range(4) if print(f\"ジェネレータ式: x = {x}\") or True) # 無条件でTrueになる条件を追加し、printを実行\n",
    "for val in gen_exp:\n",
    "    print(f\" ジェネレータ式から取得: {val}\")"
   ]
  },
  {
   "cell_type": "code",
   "execution_count": null,
   "id": "0bb08a0c",
   "metadata": {},
   "outputs": [],
   "source": []
  }
 ],
 "metadata": {
  "kernelspec": {
   "display_name": "Python 3",
   "language": "python",
   "name": "python3"
  },
  "language_info": {
   "codemirror_mode": {
    "name": "ipython",
    "version": 3
   },
   "file_extension": ".py",
   "mimetype": "text/x-python",
   "name": "python",
   "nbconvert_exporter": "python",
   "pygments_lexer": "ipython3",
   "version": "3.13.2"
  }
 },
 "nbformat": 4,
 "nbformat_minor": 5
}
