{
 "cells": [
  {
   "cell_type": "code",
   "execution_count": null,
   "metadata": {},
   "outputs": [
    {
     "name": "stdout",
     "output_type": "stream",
     "text": [
      "5\n",
      "4\n",
      "3\n",
      "2\n",
      "1\n"
     ]
    }
   ],
   "source": [
    "# range()の基礎となる概念\n",
    "for i in range(5, 0, -1):  # 5から1まで、1ずつ減らす\n",
    "    print(i)  # 5 4 3 2 1"
   ]
  },
  {
   "cell_type": "code",
   "execution_count": 3,
   "metadata": {},
   "outputs": [
    {
     "data": {
      "text/html": [
       "<pre style=\"white-space:pre;overflow-x:auto;line-height:normal;font-family:Menlo,'DejaVu Sans Mono',consolas,'Courier New',monospace\"><span style=\"color: #00ff00; text-decoration-color: #00ff00\">────────────────────────────────────────── </span><span style=\"color: #800000; text-decoration-color: #800000; font-weight: bold\">Range Reverse Order Examples</span><span style=\"color: #00ff00; text-decoration-color: #00ff00\"> ───────────────────────────────────────────</span>\n",
       "</pre>\n"
      ],
      "text/plain": [
       "\u001b[92m────────────────────────────────────────── \u001b[0m\u001b[1;31mRange Reverse Order Examples\u001b[0m\u001b[92m ───────────────────────────────────────────\u001b[0m\n"
      ]
     },
     "metadata": {},
     "output_type": "display_data"
    },
    {
     "data": {
      "text/html": [
       "<pre style=\"white-space:pre;overflow-x:auto;line-height:normal;font-family:Menlo,'DejaVu Sans Mono',consolas,'Courier New',monospace\"><span style=\"color: #000080; text-decoration-color: #000080; font-weight: bold\">Launch Countdown Started for </span><span style=\"color: #000080; text-decoration-color: #000080; font-weight: bold\">5</span><span style=\"color: #000080; text-decoration-color: #000080; font-weight: bold\"> seconds!</span>\n",
       "</pre>\n"
      ],
      "text/plain": [
       "\u001b[1;34mLaunch Countdown Started for \u001b[0m\u001b[1;34m5\u001b[0m\u001b[1;34m seconds!\u001b[0m\n"
      ]
     },
     "metadata": {},
     "output_type": "display_data"
    },
    {
     "data": {
      "application/vnd.jupyter.widget-view+json": {
       "model_id": "c806dd02dafa4f309d3227a818d37b35",
       "version_major": 2,
       "version_minor": 0
      },
      "text/plain": [
       "Output()"
      ]
     },
     "metadata": {},
     "output_type": "display_data"
    },
    {
     "data": {
      "text/html": [
       "<pre style=\"white-space:pre;overflow-x:auto;line-height:normal;font-family:Menlo,'DejaVu Sans Mono',consolas,'Courier New',monospace\"><span style=\"color: #008080; text-decoration-color: #008080; font-weight: bold\">5</span> seconds remaining<span style=\"color: #808000; text-decoration-color: #808000\">...</span>\r</pre>\n"
      ],
      "text/plain": [
       "\u001b[1;36m5\u001b[0m seconds remaining\u001b[33m...\u001b[0m\r"
      ]
     },
     "metadata": {},
     "output_type": "display_data"
    },
    {
     "data": {
      "text/html": [
       "<pre style=\"white-space:pre;overflow-x:auto;line-height:normal;font-family:Menlo,'DejaVu Sans Mono',consolas,'Courier New',monospace\"><span style=\"color: #008080; text-decoration-color: #008080; font-weight: bold\">4</span> seconds remaining<span style=\"color: #808000; text-decoration-color: #808000\">...</span>\r</pre>\n"
      ],
      "text/plain": [
       "\u001b[1;36m4\u001b[0m seconds remaining\u001b[33m...\u001b[0m\r"
      ]
     },
     "metadata": {},
     "output_type": "display_data"
    },
    {
     "data": {
      "text/html": [
       "<pre style=\"white-space:pre;overflow-x:auto;line-height:normal;font-family:Menlo,'DejaVu Sans Mono',consolas,'Courier New',monospace\"><span style=\"color: #008080; text-decoration-color: #008080; font-weight: bold\">3</span> seconds remaining<span style=\"color: #808000; text-decoration-color: #808000\">...</span>\r</pre>\n"
      ],
      "text/plain": [
       "\u001b[1;36m3\u001b[0m seconds remaining\u001b[33m...\u001b[0m\r"
      ]
     },
     "metadata": {},
     "output_type": "display_data"
    },
    {
     "data": {
      "text/html": [
       "<pre style=\"white-space:pre;overflow-x:auto;line-height:normal;font-family:Menlo,'DejaVu Sans Mono',consolas,'Courier New',monospace\"><span style=\"color: #008080; text-decoration-color: #008080; font-weight: bold\">2</span> seconds remaining<span style=\"color: #808000; text-decoration-color: #808000\">...</span>\r</pre>\n"
      ],
      "text/plain": [
       "\u001b[1;36m2\u001b[0m seconds remaining\u001b[33m...\u001b[0m\r"
      ]
     },
     "metadata": {},
     "output_type": "display_data"
    },
    {
     "data": {
      "text/html": [
       "<pre style=\"white-space:pre;overflow-x:auto;line-height:normal;font-family:Menlo,'DejaVu Sans Mono',consolas,'Courier New',monospace\"><span style=\"color: #008080; text-decoration-color: #008080; font-weight: bold\">1</span> seconds remaining<span style=\"color: #808000; text-decoration-color: #808000\">...</span>\r</pre>\n"
      ],
      "text/plain": [
       "\u001b[1;36m1\u001b[0m seconds remaining\u001b[33m...\u001b[0m\r"
      ]
     },
     "metadata": {},
     "output_type": "display_data"
    },
    {
     "data": {
      "text/html": [
       "<pre style=\"white-space:pre;overflow-x:auto;line-height:normal;font-family:Menlo,'DejaVu Sans Mono',consolas,'Courier New',monospace\"></pre>\n"
      ],
      "text/plain": []
     },
     "metadata": {},
     "output_type": "display_data"
    },
    {
     "data": {
      "text/html": [
       "<pre style=\"white-space:pre;overflow-x:auto;line-height:normal;font-family:Menlo,'DejaVu Sans Mono',consolas,'Courier New',monospace\"><span style=\"color: #800000; text-decoration-color: #800000; font-weight: bold\">Launch!</span>\n",
       "</pre>\n"
      ],
      "text/plain": [
       "\u001b[1;31mLaunch!\u001b[0m\n"
      ]
     },
     "metadata": {},
     "output_type": "display_data"
    },
    {
     "data": {
      "text/html": [
       "<pre style=\"white-space:pre;overflow-x:auto;line-height:normal;font-family:Menlo,'DejaVu Sans Mono',consolas,'Courier New',monospace\">\n",
       "</pre>\n"
      ],
      "text/plain": [
       "\n"
      ]
     },
     "metadata": {},
     "output_type": "display_data"
    },
    {
     "data": {
      "text/html": [
       "<pre style=\"white-space:pre;overflow-x:auto;line-height:normal;font-family:Menlo,'DejaVu Sans Mono',consolas,'Courier New',monospace\"><span style=\"color: #808000; text-decoration-color: #808000; font-weight: bold\">Processing </span><span style=\"color: #808000; text-decoration-color: #808000; font-weight: bold\">4</span><span style=\"color: #808000; text-decoration-color: #808000; font-weight: bold\"> tasks in reverse order...</span>\n",
       "</pre>\n"
      ],
      "text/plain": [
       "\u001b[1;33mProcessing \u001b[0m\u001b[1;33m4\u001b[0m\u001b[1;33m tasks in reverse order\u001b[0m\u001b[1;33m...\u001b[0m\n"
      ]
     },
     "metadata": {},
     "output_type": "display_data"
    },
    {
     "data": {
      "application/vnd.jupyter.widget-view+json": {
       "model_id": "61bf0a8e34234ef9a80beb99f31a33dc",
       "version_major": 2,
       "version_minor": 0
      },
      "text/plain": [
       "Output()"
      ]
     },
     "metadata": {},
     "output_type": "display_data"
    },
    {
     "data": {
      "text/html": [
       "<pre style=\"white-space:pre;overflow-x:auto;line-height:normal;font-family:Menlo,'DejaVu Sans Mono',consolas,'Courier New',monospace\">  <span style=\"color: #008000; text-decoration-color: #008000; font-weight: bold\">Task </span><span style=\"color: #008000; text-decoration-color: #008000; font-weight: bold\">4</span> is being processed<span style=\"color: #808000; text-decoration-color: #808000\">...</span>\r</pre>\n"
      ],
      "text/plain": [
       "  \u001b[1;32mTask \u001b[0m\u001b[1;32m4\u001b[0m is being processed\u001b[33m...\u001b[0m\r"
      ]
     },
     "metadata": {},
     "output_type": "display_data"
    },
    {
     "data": {
      "text/html": [
       "<pre style=\"white-space:pre;overflow-x:auto;line-height:normal;font-family:Menlo,'DejaVu Sans Mono',consolas,'Courier New',monospace\">  <span style=\"color: #008000; text-decoration-color: #008000; font-weight: bold\">Task </span><span style=\"color: #008000; text-decoration-color: #008000; font-weight: bold\">4</span> completed in <span style=\"color: #008080; text-decoration-color: #008080; font-weight: bold\">1.44</span> seconds.\n",
       "</pre>\n"
      ],
      "text/plain": [
       "  \u001b[1;32mTask \u001b[0m\u001b[1;32m4\u001b[0m completed in \u001b[1;36m1.44\u001b[0m seconds.\n"
      ]
     },
     "metadata": {},
     "output_type": "display_data"
    },
    {
     "data": {
      "text/html": [
       "<pre style=\"white-space:pre;overflow-x:auto;line-height:normal;font-family:Menlo,'DejaVu Sans Mono',consolas,'Courier New',monospace\">  <span style=\"color: #008000; text-decoration-color: #008000; font-weight: bold\">Task </span><span style=\"color: #008000; text-decoration-color: #008000; font-weight: bold\">3</span> is being processed<span style=\"color: #808000; text-decoration-color: #808000\">...</span>\r</pre>\n"
      ],
      "text/plain": [
       "  \u001b[1;32mTask \u001b[0m\u001b[1;32m3\u001b[0m is being processed\u001b[33m...\u001b[0m\r"
      ]
     },
     "metadata": {},
     "output_type": "display_data"
    },
    {
     "data": {
      "text/html": [
       "<pre style=\"white-space:pre;overflow-x:auto;line-height:normal;font-family:Menlo,'DejaVu Sans Mono',consolas,'Courier New',monospace\">  <span style=\"color: #008000; text-decoration-color: #008000; font-weight: bold\">Task </span><span style=\"color: #008000; text-decoration-color: #008000; font-weight: bold\">3</span> completed in <span style=\"color: #008080; text-decoration-color: #008080; font-weight: bold\">0.74</span> seconds.\n",
       "</pre>\n"
      ],
      "text/plain": [
       "  \u001b[1;32mTask \u001b[0m\u001b[1;32m3\u001b[0m completed in \u001b[1;36m0.74\u001b[0m seconds.\n"
      ]
     },
     "metadata": {},
     "output_type": "display_data"
    },
    {
     "data": {
      "text/html": [
       "<pre style=\"white-space:pre;overflow-x:auto;line-height:normal;font-family:Menlo,'DejaVu Sans Mono',consolas,'Courier New',monospace\">  <span style=\"color: #008000; text-decoration-color: #008000; font-weight: bold\">Task </span><span style=\"color: #008000; text-decoration-color: #008000; font-weight: bold\">2</span> is being processed<span style=\"color: #808000; text-decoration-color: #808000\">...</span>\r</pre>\n"
      ],
      "text/plain": [
       "  \u001b[1;32mTask \u001b[0m\u001b[1;32m2\u001b[0m is being processed\u001b[33m...\u001b[0m\r"
      ]
     },
     "metadata": {},
     "output_type": "display_data"
    },
    {
     "data": {
      "text/html": [
       "<pre style=\"white-space:pre;overflow-x:auto;line-height:normal;font-family:Menlo,'DejaVu Sans Mono',consolas,'Courier New',monospace\">  <span style=\"color: #008000; text-decoration-color: #008000; font-weight: bold\">Task </span><span style=\"color: #008000; text-decoration-color: #008000; font-weight: bold\">2</span> completed in <span style=\"color: #008080; text-decoration-color: #008080; font-weight: bold\">0.60</span> seconds.\n",
       "</pre>\n"
      ],
      "text/plain": [
       "  \u001b[1;32mTask \u001b[0m\u001b[1;32m2\u001b[0m completed in \u001b[1;36m0.60\u001b[0m seconds.\n"
      ]
     },
     "metadata": {},
     "output_type": "display_data"
    },
    {
     "data": {
      "text/html": [
       "<pre style=\"white-space:pre;overflow-x:auto;line-height:normal;font-family:Menlo,'DejaVu Sans Mono',consolas,'Courier New',monospace\">  <span style=\"color: #008000; text-decoration-color: #008000; font-weight: bold\">Task </span><span style=\"color: #008000; text-decoration-color: #008000; font-weight: bold\">1</span> is being processed<span style=\"color: #808000; text-decoration-color: #808000\">...</span>\r</pre>\n"
      ],
      "text/plain": [
       "  \u001b[1;32mTask \u001b[0m\u001b[1;32m1\u001b[0m is being processed\u001b[33m...\u001b[0m\r"
      ]
     },
     "metadata": {},
     "output_type": "display_data"
    },
    {
     "data": {
      "text/html": [
       "<pre style=\"white-space:pre;overflow-x:auto;line-height:normal;font-family:Menlo,'DejaVu Sans Mono',consolas,'Courier New',monospace\">  <span style=\"color: #008000; text-decoration-color: #008000; font-weight: bold\">Task </span><span style=\"color: #008000; text-decoration-color: #008000; font-weight: bold\">1</span> completed in <span style=\"color: #008080; text-decoration-color: #008080; font-weight: bold\">1.67</span> seconds.\n",
       "</pre>\n"
      ],
      "text/plain": [
       "  \u001b[1;32mTask \u001b[0m\u001b[1;32m1\u001b[0m completed in \u001b[1;36m1.67\u001b[0m seconds.\n"
      ]
     },
     "metadata": {},
     "output_type": "display_data"
    },
    {
     "data": {
      "text/html": [
       "<pre style=\"white-space:pre;overflow-x:auto;line-height:normal;font-family:Menlo,'DejaVu Sans Mono',consolas,'Courier New',monospace\"></pre>\n"
      ],
      "text/plain": []
     },
     "metadata": {},
     "output_type": "display_data"
    },
    {
     "data": {
      "text/html": [
       "<pre style=\"white-space:pre;overflow-x:auto;line-height:normal;font-family:Menlo,'DejaVu Sans Mono',consolas,'Courier New',monospace\">\n",
       "</pre>\n"
      ],
      "text/plain": [
       "\n"
      ]
     },
     "metadata": {},
     "output_type": "display_data"
    },
    {
     "data": {
      "text/html": [
       "<pre style=\"white-space:pre;overflow-x:auto;line-height:normal;font-family:Menlo,'DejaVu Sans Mono',consolas,'Courier New',monospace\"><span style=\"color: #008080; text-decoration-color: #008080; font-weight: bold\">Downloading </span><span style=\"color: #008080; text-decoration-color: #008080; font-weight: bold\">3</span><span style=\"color: #008080; text-decoration-color: #008080; font-weight: bold\"> files in reverse order...</span>\n",
       "</pre>\n"
      ],
      "text/plain": [
       "\u001b[1;36mDownloading \u001b[0m\u001b[1;36m3\u001b[0m\u001b[1;36m files in reverse order\u001b[0m\u001b[1;36m...\u001b[0m\n"
      ]
     },
     "metadata": {},
     "output_type": "display_data"
    },
    {
     "data": {
      "application/vnd.jupyter.widget-view+json": {
       "model_id": "0937b284404b4796b1ceb9c3883f7fa2",
       "version_major": 2,
       "version_minor": 0
      },
      "text/plain": [
       "Output()"
      ]
     },
     "metadata": {},
     "output_type": "display_data"
    },
    {
     "data": {
      "text/html": [
       "<pre style=\"white-space:pre;overflow-x:auto;line-height:normal;font-family:Menlo,'DejaVu Sans Mono',consolas,'Courier New',monospace\">  <span style=\"color: #000080; text-decoration-color: #000080\">File </span><span style=\"color: #000080; text-decoration-color: #000080; font-weight: bold\">3</span> : Downloaded <span style=\"color: #008080; text-decoration-color: #008080; font-weight: bold\">48</span>/<span style=\"color: #008080; text-decoration-color: #008080; font-weight: bold\">447</span> MB\r</pre>\n"
      ],
      "text/plain": [
       "  \u001b[34mFile \u001b[0m\u001b[1;34m3\u001b[0m : Downloaded \u001b[1;36m48\u001b[0m/\u001b[1;36m447\u001b[0m MB\r"
      ]
     },
     "metadata": {},
     "output_type": "display_data"
    },
    {
     "data": {
      "text/html": [
       "<pre style=\"white-space:pre;overflow-x:auto;line-height:normal;font-family:Menlo,'DejaVu Sans Mono',consolas,'Courier New',monospace\">  <span style=\"color: #000080; text-decoration-color: #000080\">File </span><span style=\"color: #000080; text-decoration-color: #000080; font-weight: bold\">3</span> : Downloaded <span style=\"color: #008080; text-decoration-color: #008080; font-weight: bold\">77</span>/<span style=\"color: #008080; text-decoration-color: #008080; font-weight: bold\">447</span> MB\r</pre>\n"
      ],
      "text/plain": [
       "  \u001b[34mFile \u001b[0m\u001b[1;34m3\u001b[0m : Downloaded \u001b[1;36m77\u001b[0m/\u001b[1;36m447\u001b[0m MB\r"
      ]
     },
     "metadata": {},
     "output_type": "display_data"
    },
    {
     "data": {
      "text/html": [
       "<pre style=\"white-space:pre;overflow-x:auto;line-height:normal;font-family:Menlo,'DejaVu Sans Mono',consolas,'Courier New',monospace\">  <span style=\"color: #000080; text-decoration-color: #000080\">File </span><span style=\"color: #000080; text-decoration-color: #000080; font-weight: bold\">3</span> : Downloaded <span style=\"color: #008080; text-decoration-color: #008080; font-weight: bold\">97</span>/<span style=\"color: #008080; text-decoration-color: #008080; font-weight: bold\">447</span> MB\r</pre>\n"
      ],
      "text/plain": [
       "  \u001b[34mFile \u001b[0m\u001b[1;34m3\u001b[0m : Downloaded \u001b[1;36m97\u001b[0m/\u001b[1;36m447\u001b[0m MB\r"
      ]
     },
     "metadata": {},
     "output_type": "display_data"
    },
    {
     "data": {
      "text/html": [
       "<pre style=\"white-space:pre;overflow-x:auto;line-height:normal;font-family:Menlo,'DejaVu Sans Mono',consolas,'Courier New',monospace\">  <span style=\"color: #000080; text-decoration-color: #000080\">File </span><span style=\"color: #000080; text-decoration-color: #000080; font-weight: bold\">3</span> : Downloaded <span style=\"color: #008080; text-decoration-color: #008080; font-weight: bold\">116</span>/<span style=\"color: #008080; text-decoration-color: #008080; font-weight: bold\">447</span> MB\r</pre>\n"
      ],
      "text/plain": [
       "  \u001b[34mFile \u001b[0m\u001b[1;34m3\u001b[0m : Downloaded \u001b[1;36m116\u001b[0m/\u001b[1;36m447\u001b[0m MB\r"
      ]
     },
     "metadata": {},
     "output_type": "display_data"
    },
    {
     "data": {
      "text/html": [
       "<pre style=\"white-space:pre;overflow-x:auto;line-height:normal;font-family:Menlo,'DejaVu Sans Mono',consolas,'Courier New',monospace\">  <span style=\"color: #000080; text-decoration-color: #000080\">File </span><span style=\"color: #000080; text-decoration-color: #000080; font-weight: bold\">3</span> : Downloaded <span style=\"color: #008080; text-decoration-color: #008080; font-weight: bold\">174</span>/<span style=\"color: #008080; text-decoration-color: #008080; font-weight: bold\">447</span> MB\r</pre>\n"
      ],
      "text/plain": [
       "  \u001b[34mFile \u001b[0m\u001b[1;34m3\u001b[0m : Downloaded \u001b[1;36m174\u001b[0m/\u001b[1;36m447\u001b[0m MB\r"
      ]
     },
     "metadata": {},
     "output_type": "display_data"
    },
    {
     "data": {
      "text/html": [
       "<pre style=\"white-space:pre;overflow-x:auto;line-height:normal;font-family:Menlo,'DejaVu Sans Mono',consolas,'Courier New',monospace\">  <span style=\"color: #000080; text-decoration-color: #000080\">File </span><span style=\"color: #000080; text-decoration-color: #000080; font-weight: bold\">3</span> : Downloaded <span style=\"color: #008080; text-decoration-color: #008080; font-weight: bold\">216</span>/<span style=\"color: #008080; text-decoration-color: #008080; font-weight: bold\">447</span> MB\r</pre>\n"
      ],
      "text/plain": [
       "  \u001b[34mFile \u001b[0m\u001b[1;34m3\u001b[0m : Downloaded \u001b[1;36m216\u001b[0m/\u001b[1;36m447\u001b[0m MB\r"
      ]
     },
     "metadata": {},
     "output_type": "display_data"
    },
    {
     "data": {
      "text/html": [
       "<pre style=\"white-space:pre;overflow-x:auto;line-height:normal;font-family:Menlo,'DejaVu Sans Mono',consolas,'Courier New',monospace\">  <span style=\"color: #000080; text-decoration-color: #000080\">File </span><span style=\"color: #000080; text-decoration-color: #000080; font-weight: bold\">3</span> : Downloaded <span style=\"color: #008080; text-decoration-color: #008080; font-weight: bold\">243</span>/<span style=\"color: #008080; text-decoration-color: #008080; font-weight: bold\">447</span> MB\r</pre>\n"
      ],
      "text/plain": [
       "  \u001b[34mFile \u001b[0m\u001b[1;34m3\u001b[0m : Downloaded \u001b[1;36m243\u001b[0m/\u001b[1;36m447\u001b[0m MB\r"
      ]
     },
     "metadata": {},
     "output_type": "display_data"
    },
    {
     "data": {
      "text/html": [
       "<pre style=\"white-space:pre;overflow-x:auto;line-height:normal;font-family:Menlo,'DejaVu Sans Mono',consolas,'Courier New',monospace\">  <span style=\"color: #000080; text-decoration-color: #000080\">File </span><span style=\"color: #000080; text-decoration-color: #000080; font-weight: bold\">3</span> : Downloaded <span style=\"color: #008080; text-decoration-color: #008080; font-weight: bold\">306</span>/<span style=\"color: #008080; text-decoration-color: #008080; font-weight: bold\">447</span> MB\r</pre>\n"
      ],
      "text/plain": [
       "  \u001b[34mFile \u001b[0m\u001b[1;34m3\u001b[0m : Downloaded \u001b[1;36m306\u001b[0m/\u001b[1;36m447\u001b[0m MB\r"
      ]
     },
     "metadata": {},
     "output_type": "display_data"
    },
    {
     "data": {
      "text/html": [
       "<pre style=\"white-space:pre;overflow-x:auto;line-height:normal;font-family:Menlo,'DejaVu Sans Mono',consolas,'Courier New',monospace\">  <span style=\"color: #000080; text-decoration-color: #000080\">File </span><span style=\"color: #000080; text-decoration-color: #000080; font-weight: bold\">3</span> : Downloaded <span style=\"color: #008080; text-decoration-color: #008080; font-weight: bold\">336</span>/<span style=\"color: #008080; text-decoration-color: #008080; font-weight: bold\">447</span> MB\r</pre>\n"
      ],
      "text/plain": [
       "  \u001b[34mFile \u001b[0m\u001b[1;34m3\u001b[0m : Downloaded \u001b[1;36m336\u001b[0m/\u001b[1;36m447\u001b[0m MB\r"
      ]
     },
     "metadata": {},
     "output_type": "display_data"
    },
    {
     "data": {
      "text/html": [
       "<pre style=\"white-space:pre;overflow-x:auto;line-height:normal;font-family:Menlo,'DejaVu Sans Mono',consolas,'Courier New',monospace\">  <span style=\"color: #000080; text-decoration-color: #000080\">File </span><span style=\"color: #000080; text-decoration-color: #000080; font-weight: bold\">3</span> : Downloaded <span style=\"color: #008080; text-decoration-color: #008080; font-weight: bold\">362</span>/<span style=\"color: #008080; text-decoration-color: #008080; font-weight: bold\">447</span> MB\r</pre>\n"
      ],
      "text/plain": [
       "  \u001b[34mFile \u001b[0m\u001b[1;34m3\u001b[0m : Downloaded \u001b[1;36m362\u001b[0m/\u001b[1;36m447\u001b[0m MB\r"
      ]
     },
     "metadata": {},
     "output_type": "display_data"
    },
    {
     "data": {
      "text/html": [
       "<pre style=\"white-space:pre;overflow-x:auto;line-height:normal;font-family:Menlo,'DejaVu Sans Mono',consolas,'Courier New',monospace\">  <span style=\"color: #000080; text-decoration-color: #000080\">File </span><span style=\"color: #000080; text-decoration-color: #000080; font-weight: bold\">3</span> : Downloaded <span style=\"color: #008080; text-decoration-color: #008080; font-weight: bold\">379</span>/<span style=\"color: #008080; text-decoration-color: #008080; font-weight: bold\">447</span> MB\r</pre>\n"
      ],
      "text/plain": [
       "  \u001b[34mFile \u001b[0m\u001b[1;34m3\u001b[0m : Downloaded \u001b[1;36m379\u001b[0m/\u001b[1;36m447\u001b[0m MB\r"
      ]
     },
     "metadata": {},
     "output_type": "display_data"
    },
    {
     "data": {
      "text/html": [
       "<pre style=\"white-space:pre;overflow-x:auto;line-height:normal;font-family:Menlo,'DejaVu Sans Mono',consolas,'Courier New',monospace\">  <span style=\"color: #000080; text-decoration-color: #000080\">File </span><span style=\"color: #000080; text-decoration-color: #000080; font-weight: bold\">3</span> : Downloaded <span style=\"color: #008080; text-decoration-color: #008080; font-weight: bold\">390</span>/<span style=\"color: #008080; text-decoration-color: #008080; font-weight: bold\">447</span> MB\r</pre>\n"
      ],
      "text/plain": [
       "  \u001b[34mFile \u001b[0m\u001b[1;34m3\u001b[0m : Downloaded \u001b[1;36m390\u001b[0m/\u001b[1;36m447\u001b[0m MB\r"
      ]
     },
     "metadata": {},
     "output_type": "display_data"
    },
    {
     "data": {
      "text/html": [
       "<pre style=\"white-space:pre;overflow-x:auto;line-height:normal;font-family:Menlo,'DejaVu Sans Mono',consolas,'Courier New',monospace\">  <span style=\"color: #000080; text-decoration-color: #000080\">File </span><span style=\"color: #000080; text-decoration-color: #000080; font-weight: bold\">3</span> : Downloaded <span style=\"color: #008080; text-decoration-color: #008080; font-weight: bold\">411</span>/<span style=\"color: #008080; text-decoration-color: #008080; font-weight: bold\">447</span> MB\r</pre>\n"
      ],
      "text/plain": [
       "  \u001b[34mFile \u001b[0m\u001b[1;34m3\u001b[0m : Downloaded \u001b[1;36m411\u001b[0m/\u001b[1;36m447\u001b[0m MB\r"
      ]
     },
     "metadata": {},
     "output_type": "display_data"
    },
    {
     "data": {
      "text/html": [
       "<pre style=\"white-space:pre;overflow-x:auto;line-height:normal;font-family:Menlo,'DejaVu Sans Mono',consolas,'Courier New',monospace\">  <span style=\"color: #000080; text-decoration-color: #000080\">File </span><span style=\"color: #000080; text-decoration-color: #000080; font-weight: bold\">3</span> : Downloaded <span style=\"color: #008080; text-decoration-color: #008080; font-weight: bold\">434</span>/<span style=\"color: #008080; text-decoration-color: #008080; font-weight: bold\">447</span> MB\r</pre>\n"
      ],
      "text/plain": [
       "  \u001b[34mFile \u001b[0m\u001b[1;34m3\u001b[0m : Downloaded \u001b[1;36m434\u001b[0m/\u001b[1;36m447\u001b[0m MB\r"
      ]
     },
     "metadata": {},
     "output_type": "display_data"
    },
    {
     "data": {
      "text/html": [
       "<pre style=\"white-space:pre;overflow-x:auto;line-height:normal;font-family:Menlo,'DejaVu Sans Mono',consolas,'Courier New',monospace\">  <span style=\"color: #000080; text-decoration-color: #000080\">File </span><span style=\"color: #000080; text-decoration-color: #000080; font-weight: bold\">3</span> : Downloaded <span style=\"color: #008080; text-decoration-color: #008080; font-weight: bold\">447</span>/<span style=\"color: #008080; text-decoration-color: #008080; font-weight: bold\">447</span> MB\r</pre>\n"
      ],
      "text/plain": [
       "  \u001b[34mFile \u001b[0m\u001b[1;34m3\u001b[0m : Downloaded \u001b[1;36m447\u001b[0m/\u001b[1;36m447\u001b[0m MB\r"
      ]
     },
     "metadata": {},
     "output_type": "display_data"
    },
    {
     "data": {
      "text/html": [
       "<pre style=\"white-space:pre;overflow-x:auto;line-height:normal;font-family:Menlo,'DejaVu Sans Mono',consolas,'Courier New',monospace\">  <span style=\"color: #000080; text-decoration-color: #000080\">File </span><span style=\"color: #000080; text-decoration-color: #000080; font-weight: bold\">3</span> : Downloaded <span style=\"color: #008080; text-decoration-color: #008080; font-weight: bold\">447</span>/<span style=\"color: #008080; text-decoration-color: #008080; font-weight: bold\">447</span> MB\n",
       "</pre>\n"
      ],
      "text/plain": [
       "  \u001b[34mFile \u001b[0m\u001b[1;34m3\u001b[0m : Downloaded \u001b[1;36m447\u001b[0m/\u001b[1;36m447\u001b[0m MB\n"
      ]
     },
     "metadata": {},
     "output_type": "display_data"
    },
    {
     "data": {
      "text/html": [
       "<pre style=\"white-space:pre;overflow-x:auto;line-height:normal;font-family:Menlo,'DejaVu Sans Mono',consolas,'Courier New',monospace\">  <span style=\"color: #000080; text-decoration-color: #000080\">File </span><span style=\"color: #000080; text-decoration-color: #000080; font-weight: bold\">2</span> : Downloaded <span style=\"color: #008080; text-decoration-color: #008080; font-weight: bold\">34</span>/<span style=\"color: #008080; text-decoration-color: #008080; font-weight: bold\">255</span> MB\r</pre>\n"
      ],
      "text/plain": [
       "  \u001b[34mFile \u001b[0m\u001b[1;34m2\u001b[0m : Downloaded \u001b[1;36m34\u001b[0m/\u001b[1;36m255\u001b[0m MB\r"
      ]
     },
     "metadata": {},
     "output_type": "display_data"
    },
    {
     "data": {
      "text/html": [
       "<pre style=\"white-space:pre;overflow-x:auto;line-height:normal;font-family:Menlo,'DejaVu Sans Mono',consolas,'Courier New',monospace\">  <span style=\"color: #000080; text-decoration-color: #000080\">File </span><span style=\"color: #000080; text-decoration-color: #000080; font-weight: bold\">2</span> : Downloaded <span style=\"color: #008080; text-decoration-color: #008080; font-weight: bold\">49</span>/<span style=\"color: #008080; text-decoration-color: #008080; font-weight: bold\">255</span> MB\r</pre>\n"
      ],
      "text/plain": [
       "  \u001b[34mFile \u001b[0m\u001b[1;34m2\u001b[0m : Downloaded \u001b[1;36m49\u001b[0m/\u001b[1;36m255\u001b[0m MB\r"
      ]
     },
     "metadata": {},
     "output_type": "display_data"
    },
    {
     "data": {
      "text/html": [
       "<pre style=\"white-space:pre;overflow-x:auto;line-height:normal;font-family:Menlo,'DejaVu Sans Mono',consolas,'Courier New',monospace\">  <span style=\"color: #000080; text-decoration-color: #000080\">File </span><span style=\"color: #000080; text-decoration-color: #000080; font-weight: bold\">2</span> : Downloaded <span style=\"color: #008080; text-decoration-color: #008080; font-weight: bold\">82</span>/<span style=\"color: #008080; text-decoration-color: #008080; font-weight: bold\">255</span> MB\r</pre>\n"
      ],
      "text/plain": [
       "  \u001b[34mFile \u001b[0m\u001b[1;34m2\u001b[0m : Downloaded \u001b[1;36m82\u001b[0m/\u001b[1;36m255\u001b[0m MB\r"
      ]
     },
     "metadata": {},
     "output_type": "display_data"
    },
    {
     "data": {
      "text/html": [
       "<pre style=\"white-space:pre;overflow-x:auto;line-height:normal;font-family:Menlo,'DejaVu Sans Mono',consolas,'Courier New',monospace\">  <span style=\"color: #000080; text-decoration-color: #000080\">File </span><span style=\"color: #000080; text-decoration-color: #000080; font-weight: bold\">2</span> : Downloaded <span style=\"color: #008080; text-decoration-color: #008080; font-weight: bold\">120</span>/<span style=\"color: #008080; text-decoration-color: #008080; font-weight: bold\">255</span> MB\r</pre>\n"
      ],
      "text/plain": [
       "  \u001b[34mFile \u001b[0m\u001b[1;34m2\u001b[0m : Downloaded \u001b[1;36m120\u001b[0m/\u001b[1;36m255\u001b[0m MB\r"
      ]
     },
     "metadata": {},
     "output_type": "display_data"
    },
    {
     "data": {
      "text/html": [
       "<pre style=\"white-space:pre;overflow-x:auto;line-height:normal;font-family:Menlo,'DejaVu Sans Mono',consolas,'Courier New',monospace\">  <span style=\"color: #000080; text-decoration-color: #000080\">File </span><span style=\"color: #000080; text-decoration-color: #000080; font-weight: bold\">2</span> : Downloaded <span style=\"color: #008080; text-decoration-color: #008080; font-weight: bold\">150</span>/<span style=\"color: #008080; text-decoration-color: #008080; font-weight: bold\">255</span> MB\r</pre>\n"
      ],
      "text/plain": [
       "  \u001b[34mFile \u001b[0m\u001b[1;34m2\u001b[0m : Downloaded \u001b[1;36m150\u001b[0m/\u001b[1;36m255\u001b[0m MB\r"
      ]
     },
     "metadata": {},
     "output_type": "display_data"
    },
    {
     "data": {
      "text/html": [
       "<pre style=\"white-space:pre;overflow-x:auto;line-height:normal;font-family:Menlo,'DejaVu Sans Mono',consolas,'Courier New',monospace\">  <span style=\"color: #000080; text-decoration-color: #000080\">File </span><span style=\"color: #000080; text-decoration-color: #000080; font-weight: bold\">2</span> : Downloaded <span style=\"color: #008080; text-decoration-color: #008080; font-weight: bold\">182</span>/<span style=\"color: #008080; text-decoration-color: #008080; font-weight: bold\">255</span> MB\r</pre>\n"
      ],
      "text/plain": [
       "  \u001b[34mFile \u001b[0m\u001b[1;34m2\u001b[0m : Downloaded \u001b[1;36m182\u001b[0m/\u001b[1;36m255\u001b[0m MB\r"
      ]
     },
     "metadata": {},
     "output_type": "display_data"
    },
    {
     "data": {
      "text/html": [
       "<pre style=\"white-space:pre;overflow-x:auto;line-height:normal;font-family:Menlo,'DejaVu Sans Mono',consolas,'Courier New',monospace\">  <span style=\"color: #000080; text-decoration-color: #000080\">File </span><span style=\"color: #000080; text-decoration-color: #000080; font-weight: bold\">2</span> : Downloaded <span style=\"color: #008080; text-decoration-color: #008080; font-weight: bold\">217</span>/<span style=\"color: #008080; text-decoration-color: #008080; font-weight: bold\">255</span> MB\r</pre>\n"
      ],
      "text/plain": [
       "  \u001b[34mFile \u001b[0m\u001b[1;34m2\u001b[0m : Downloaded \u001b[1;36m217\u001b[0m/\u001b[1;36m255\u001b[0m MB\r"
      ]
     },
     "metadata": {},
     "output_type": "display_data"
    },
    {
     "data": {
      "text/html": [
       "<pre style=\"white-space:pre;overflow-x:auto;line-height:normal;font-family:Menlo,'DejaVu Sans Mono',consolas,'Courier New',monospace\">  <span style=\"color: #000080; text-decoration-color: #000080\">File </span><span style=\"color: #000080; text-decoration-color: #000080; font-weight: bold\">2</span> : Downloaded <span style=\"color: #008080; text-decoration-color: #008080; font-weight: bold\">233</span>/<span style=\"color: #008080; text-decoration-color: #008080; font-weight: bold\">255</span> MB\r</pre>\n"
      ],
      "text/plain": [
       "  \u001b[34mFile \u001b[0m\u001b[1;34m2\u001b[0m : Downloaded \u001b[1;36m233\u001b[0m/\u001b[1;36m255\u001b[0m MB\r"
      ]
     },
     "metadata": {},
     "output_type": "display_data"
    },
    {
     "data": {
      "text/html": [
       "<pre style=\"white-space:pre;overflow-x:auto;line-height:normal;font-family:Menlo,'DejaVu Sans Mono',consolas,'Courier New',monospace\">  <span style=\"color: #000080; text-decoration-color: #000080\">File </span><span style=\"color: #000080; text-decoration-color: #000080; font-weight: bold\">2</span> : Downloaded <span style=\"color: #008080; text-decoration-color: #008080; font-weight: bold\">255</span>/<span style=\"color: #008080; text-decoration-color: #008080; font-weight: bold\">255</span> MB\r</pre>\n"
      ],
      "text/plain": [
       "  \u001b[34mFile \u001b[0m\u001b[1;34m2\u001b[0m : Downloaded \u001b[1;36m255\u001b[0m/\u001b[1;36m255\u001b[0m MB\r"
      ]
     },
     "metadata": {},
     "output_type": "display_data"
    },
    {
     "data": {
      "text/html": [
       "<pre style=\"white-space:pre;overflow-x:auto;line-height:normal;font-family:Menlo,'DejaVu Sans Mono',consolas,'Courier New',monospace\">  <span style=\"color: #000080; text-decoration-color: #000080\">File </span><span style=\"color: #000080; text-decoration-color: #000080; font-weight: bold\">2</span> : Downloaded <span style=\"color: #008080; text-decoration-color: #008080; font-weight: bold\">255</span>/<span style=\"color: #008080; text-decoration-color: #008080; font-weight: bold\">255</span> MB\n",
       "</pre>\n"
      ],
      "text/plain": [
       "  \u001b[34mFile \u001b[0m\u001b[1;34m2\u001b[0m : Downloaded \u001b[1;36m255\u001b[0m/\u001b[1;36m255\u001b[0m MB\n"
      ]
     },
     "metadata": {},
     "output_type": "display_data"
    },
    {
     "data": {
      "text/html": [
       "<pre style=\"white-space:pre;overflow-x:auto;line-height:normal;font-family:Menlo,'DejaVu Sans Mono',consolas,'Courier New',monospace\">  <span style=\"color: #000080; text-decoration-color: #000080\">File </span><span style=\"color: #000080; text-decoration-color: #000080; font-weight: bold\">1</span> : Downloaded <span style=\"color: #008080; text-decoration-color: #008080; font-weight: bold\">26</span>/<span style=\"color: #008080; text-decoration-color: #008080; font-weight: bold\">136</span> MB\r</pre>\n"
      ],
      "text/plain": [
       "  \u001b[34mFile \u001b[0m\u001b[1;34m1\u001b[0m : Downloaded \u001b[1;36m26\u001b[0m/\u001b[1;36m136\u001b[0m MB\r"
      ]
     },
     "metadata": {},
     "output_type": "display_data"
    },
    {
     "data": {
      "text/html": [
       "<pre style=\"white-space:pre;overflow-x:auto;line-height:normal;font-family:Menlo,'DejaVu Sans Mono',consolas,'Courier New',monospace\">  <span style=\"color: #000080; text-decoration-color: #000080\">File </span><span style=\"color: #000080; text-decoration-color: #000080; font-weight: bold\">1</span> : Downloaded <span style=\"color: #008080; text-decoration-color: #008080; font-weight: bold\">70</span>/<span style=\"color: #008080; text-decoration-color: #008080; font-weight: bold\">136</span> MB\r</pre>\n"
      ],
      "text/plain": [
       "  \u001b[34mFile \u001b[0m\u001b[1;34m1\u001b[0m : Downloaded \u001b[1;36m70\u001b[0m/\u001b[1;36m136\u001b[0m MB\r"
      ]
     },
     "metadata": {},
     "output_type": "display_data"
    },
    {
     "data": {
      "text/html": [
       "<pre style=\"white-space:pre;overflow-x:auto;line-height:normal;font-family:Menlo,'DejaVu Sans Mono',consolas,'Courier New',monospace\">  <span style=\"color: #000080; text-decoration-color: #000080\">File </span><span style=\"color: #000080; text-decoration-color: #000080; font-weight: bold\">1</span> : Downloaded <span style=\"color: #008080; text-decoration-color: #008080; font-weight: bold\">95</span>/<span style=\"color: #008080; text-decoration-color: #008080; font-weight: bold\">136</span> MB\r</pre>\n"
      ],
      "text/plain": [
       "  \u001b[34mFile \u001b[0m\u001b[1;34m1\u001b[0m : Downloaded \u001b[1;36m95\u001b[0m/\u001b[1;36m136\u001b[0m MB\r"
      ]
     },
     "metadata": {},
     "output_type": "display_data"
    },
    {
     "data": {
      "text/html": [
       "<pre style=\"white-space:pre;overflow-x:auto;line-height:normal;font-family:Menlo,'DejaVu Sans Mono',consolas,'Courier New',monospace\">  <span style=\"color: #000080; text-decoration-color: #000080\">File </span><span style=\"color: #000080; text-decoration-color: #000080; font-weight: bold\">1</span> : Downloaded <span style=\"color: #008080; text-decoration-color: #008080; font-weight: bold\">124</span>/<span style=\"color: #008080; text-decoration-color: #008080; font-weight: bold\">136</span> MB\r</pre>\n"
      ],
      "text/plain": [
       "  \u001b[34mFile \u001b[0m\u001b[1;34m1\u001b[0m : Downloaded \u001b[1;36m124\u001b[0m/\u001b[1;36m136\u001b[0m MB\r"
      ]
     },
     "metadata": {},
     "output_type": "display_data"
    },
    {
     "data": {
      "text/html": [
       "<pre style=\"white-space:pre;overflow-x:auto;line-height:normal;font-family:Menlo,'DejaVu Sans Mono',consolas,'Courier New',monospace\">  <span style=\"color: #000080; text-decoration-color: #000080\">File </span><span style=\"color: #000080; text-decoration-color: #000080; font-weight: bold\">1</span> : Downloaded <span style=\"color: #008080; text-decoration-color: #008080; font-weight: bold\">136</span>/<span style=\"color: #008080; text-decoration-color: #008080; font-weight: bold\">136</span> MB\r</pre>\n"
      ],
      "text/plain": [
       "  \u001b[34mFile \u001b[0m\u001b[1;34m1\u001b[0m : Downloaded \u001b[1;36m136\u001b[0m/\u001b[1;36m136\u001b[0m MB\r"
      ]
     },
     "metadata": {},
     "output_type": "display_data"
    },
    {
     "data": {
      "text/html": [
       "<pre style=\"white-space:pre;overflow-x:auto;line-height:normal;font-family:Menlo,'DejaVu Sans Mono',consolas,'Courier New',monospace\">  <span style=\"color: #000080; text-decoration-color: #000080\">File </span><span style=\"color: #000080; text-decoration-color: #000080; font-weight: bold\">1</span> : Downloaded <span style=\"color: #008080; text-decoration-color: #008080; font-weight: bold\">136</span>/<span style=\"color: #008080; text-decoration-color: #008080; font-weight: bold\">136</span> MB\n",
       "</pre>\n"
      ],
      "text/plain": [
       "  \u001b[34mFile \u001b[0m\u001b[1;34m1\u001b[0m : Downloaded \u001b[1;36m136\u001b[0m/\u001b[1;36m136\u001b[0m MB\n"
      ]
     },
     "metadata": {},
     "output_type": "display_data"
    },
    {
     "data": {
      "text/html": [
       "<pre style=\"white-space:pre;overflow-x:auto;line-height:normal;font-family:Menlo,'DejaVu Sans Mono',consolas,'Courier New',monospace\"></pre>\n"
      ],
      "text/plain": []
     },
     "metadata": {},
     "output_type": "display_data"
    }
   ],
   "source": [
    "# pyファイルにこのコードをコピペして実行することをおすすめします。\n",
    "import time\n",
    "import random\n",
    "from rich.console import Console\n",
    "from rich.progress import track\n",
    "\n",
    "console = Console()\n",
    "\n",
    "def countdown_launch(duration):\n",
    "    \"\"\"\n",
    "    カウントダウンを行う関数。\n",
    "    指定された時間から0までカウントダウンし、0になったら発射（Launch!）を表示します。\n",
    "\n",
    "    Args:\n",
    "        duration (int): カウントダウンの開始時間（秒）。\n",
    "    \"\"\"\n",
    "    console.print(f\"[bold blue]Launch Countdown Started for {duration} seconds![/bold blue]\")\n",
    "\n",
    "    for i in track(range(duration, 0, -1), description=\"[green]Countdown...[/green]\"):\n",
    "        console.print(f\"[bold cyan]{i}[/bold cyan] seconds remaining...\", end=\"\\r\")\n",
    "        time.sleep(1)  # 1秒待機\n",
    "\n",
    "    console.print(f\"[bold red]Launch![/bold red]\")\n",
    "\n",
    "\n",
    "def process_tasks(num_tasks):\n",
    "    \"\"\"\n",
    "    複数のタスクを逆順で処理する関数。\n",
    "    各タスクの処理時間をランダムにし、進捗状況を表示します。\n",
    "\n",
    "    Args:\n",
    "        num_tasks (int): 処理するタスクの数。\n",
    "    \"\"\"\n",
    "    console.print(f\"[bold yellow]Processing {num_tasks} tasks in reverse order...[/bold yellow]\")\n",
    "\n",
    "    tasks = list(range(1, num_tasks + 1))\n",
    "\n",
    "    for task_number in track(reversed(tasks), description=\"[magenta]Processing Tasks...[/magenta]\"):\n",
    "        processing_time = random.uniform(0.5, 2.0)  # 0.5秒から2秒のランダムな処理時間\n",
    "        console.print(f\"  [bold green]Task {task_number}[/bold green] is being processed...\", end=\"\\r\")\n",
    "        time.sleep(processing_time)\n",
    "        console.print(f\"  [bold green]Task {task_number}[/bold green] completed in {processing_time:.2f} seconds.\")\n",
    "\n",
    "\n",
    "def download_files(num_files):\n",
    "    \"\"\"\n",
    "    複数のファイルを逆順でダウンロードする関数。\n",
    "    各ファイルのダウンロードサイズをランダムにし、進捗状況を表示します。\n",
    "    \"\"\"\n",
    "    console.print(f\"[bold cyan]Downloading {num_files} files in reverse order...[/bold cyan]\")\n",
    "\n",
    "    files = list(range(1, num_files+1))\n",
    "\n",
    "    for file_number in track(reversed(files), description=\"[blue]Downloading Files...[/blue]\"):\n",
    "        file_size = random.randint(100, 500) # ランダムなファイルサイズ(MB)\n",
    "        downloaded = 0\n",
    "\n",
    "        while downloaded < file_size:\n",
    "            chunk_size = random.randint(10,50)\n",
    "            downloaded += chunk_size\n",
    "            if downloaded > file_size:\n",
    "                downloaded = file_size\n",
    "\n",
    "            console.print(f\"  [blue]File {file_number}[/blue] : Downloaded {downloaded}/{file_size} MB\", end=\"\\r\")\n",
    "            time.sleep(random.uniform(0.1, 0.5))\n",
    "\n",
    "        console.print(f\"  [blue]File {file_number}[/blue] : Downloaded {file_size}/{file_size} MB\")\n",
    "\n",
    "def main():\n",
    "    \"\"\"\n",
    "    メイン関数。各種の逆順処理のサンプルを実行します。\n",
    "    \"\"\"\n",
    "    console.rule(\"[bold red]Range Reverse Order Examples[/bold red]\")\n",
    "\n",
    "    # カウントダウンの実行\n",
    "    countdown_launch(5)\n",
    "\n",
    "    console.print()\n",
    "\n",
    "    # 複数のタスクを逆順で処理\n",
    "    process_tasks(4)\n",
    "\n",
    "    console.print()\n",
    "\n",
    "    # 複数のファイルを逆順でダウンロード\n",
    "    download_files(3)\n",
    "\n",
    "\n",
    "if __name__ == \"__main__\":\n",
    "    main()"
   ]
  },
  {
   "cell_type": "code",
   "execution_count": null,
   "metadata": {},
   "outputs": [],
   "source": []
  }
 ],
 "metadata": {
  "kernelspec": {
   "display_name": "Python 3",
   "language": "python",
   "name": "python3"
  },
  "language_info": {
   "codemirror_mode": {
    "name": "ipython",
    "version": 3
   },
   "file_extension": ".py",
   "mimetype": "text/x-python",
   "name": "python",
   "nbconvert_exporter": "python",
   "pygments_lexer": "ipython3",
   "version": "3.13.2"
  }
 },
 "nbformat": 4,
 "nbformat_minor": 2
}
