{
 "cells": [
  {
   "cell_type": "code",
   "execution_count": null,
   "metadata": {},
   "outputs": [],
   "source": [
    "# range()の基礎となる概念\n",
    "for i in range(3):  # 3回繰り返す\n",
    "    print(f\"{i+1}回目の処理\")"
   ]
  },
  {
   "cell_type": "code",
   "execution_count": null,
   "metadata": {},
   "outputs": [
    {
     "data": {
      "text/html": [
       "<pre style=\"white-space:pre;overflow-x:auto;line-height:normal;font-family:Menlo,'DejaVu Sans Mono',consolas,'Courier New',monospace\">これから <span style=\"color: #008080; text-decoration-color: #008080; font-weight: bold\">5</span> 個のデータを処理します。\n",
       "</pre>\n"
      ],
      "text/plain": [
       "これから \u001b[1;36m5\u001b[0m 個のデータを処理します。\n"
      ]
     },
     "metadata": {},
     "output_type": "display_data"
    },
    {
     "data": {
      "text/html": [
       "<pre style=\"white-space:pre;overflow-x:auto;line-height:normal;font-family:Menlo,'DejaVu Sans Mono',consolas,'Courier New',monospace\">\n",
       "--- 処理 <span style=\"color: #008080; text-decoration-color: #008080; font-weight: bold\">1</span>/<span style=\"color: #008080; text-decoration-color: #008080; font-weight: bold\">5</span> 回目 ---\n",
       "</pre>\n"
      ],
      "text/plain": [
       "\n",
       "--- 処理 \u001b[1;36m1\u001b[0m/\u001b[1;36m5\u001b[0m 回目 ---\n"
      ]
     },
     "metadata": {},
     "output_type": "display_data"
    },
    {
     "data": {
      "text/html": [
       "<pre style=\"white-space:pre;overflow-x:auto;line-height:normal;font-family:Menlo,'DejaVu Sans Mono',consolas,'Courier New',monospace\">  処理中のデータ: data1\n",
       "</pre>\n"
      ],
      "text/plain": [
       "  処理中のデータ: data1\n"
      ]
     },
     "metadata": {},
     "output_type": "display_data"
    },
    {
     "data": {
      "text/html": [
       "<pre style=\"white-space:pre;overflow-x:auto;line-height:normal;font-family:Menlo,'DejaVu Sans Mono',consolas,'Courier New',monospace\">  データ <span style=\"color: #008000; text-decoration-color: #008000\">'data1'</span> の処理が完了しました <span style=\"font-weight: bold\">(</span>処理時間: <span style=\"color: #008080; text-decoration-color: #008080; font-weight: bold\">0.</span>94秒<span style=\"font-weight: bold\">)</span>\n",
       "</pre>\n"
      ],
      "text/plain": [
       "  データ \u001b[32m'data1'\u001b[0m の処理が完了しました \u001b[1m(\u001b[0m処理時間: \u001b[1;36m0.\u001b[0m94秒\u001b[1m)\u001b[0m\n"
      ]
     },
     "metadata": {},
     "output_type": "display_data"
    },
    {
     "data": {
      "text/html": [
       "<pre style=\"white-space:pre;overflow-x:auto;line-height:normal;font-family:Menlo,'DejaVu Sans Mono',consolas,'Courier New',monospace\">  処理結果: DATA1\n",
       "</pre>\n"
      ],
      "text/plain": [
       "  処理結果: DATA1\n"
      ]
     },
     "metadata": {},
     "output_type": "display_data"
    },
    {
     "data": {
      "text/html": [
       "<pre style=\"white-space:pre;overflow-x:auto;line-height:normal;font-family:Menlo,'DejaVu Sans Mono',consolas,'Courier New',monospace\">  進捗: <span style=\"color: #008080; text-decoration-color: #008080; font-weight: bold\">1</span>/<span style=\"color: #008080; text-decoration-color: #008080; font-weight: bold\">5</span> 完了\n",
       "</pre>\n"
      ],
      "text/plain": [
       "  進捗: \u001b[1;36m1\u001b[0m/\u001b[1;36m5\u001b[0m 完了\n"
      ]
     },
     "metadata": {},
     "output_type": "display_data"
    },
    {
     "data": {
      "text/html": [
       "<pre style=\"white-space:pre;overflow-x:auto;line-height:normal;font-family:Menlo,'DejaVu Sans Mono',consolas,'Courier New',monospace\">\n",
       "--- 処理 <span style=\"color: #008080; text-decoration-color: #008080; font-weight: bold\">2</span>/<span style=\"color: #008080; text-decoration-color: #008080; font-weight: bold\">5</span> 回目 ---\n",
       "</pre>\n"
      ],
      "text/plain": [
       "\n",
       "--- 処理 \u001b[1;36m2\u001b[0m/\u001b[1;36m5\u001b[0m 回目 ---\n"
      ]
     },
     "metadata": {},
     "output_type": "display_data"
    },
    {
     "data": {
      "text/html": [
       "<pre style=\"white-space:pre;overflow-x:auto;line-height:normal;font-family:Menlo,'DejaVu Sans Mono',consolas,'Courier New',monospace\">  処理中のデータ: data2\n",
       "</pre>\n"
      ],
      "text/plain": [
       "  処理中のデータ: data2\n"
      ]
     },
     "metadata": {},
     "output_type": "display_data"
    },
    {
     "data": {
      "text/html": [
       "<pre style=\"white-space:pre;overflow-x:auto;line-height:normal;font-family:Menlo,'DejaVu Sans Mono',consolas,'Courier New',monospace\">  データ <span style=\"color: #008000; text-decoration-color: #008000\">'data2'</span> の処理が完了しました <span style=\"font-weight: bold\">(</span>処理時間: <span style=\"color: #008080; text-decoration-color: #008080; font-weight: bold\">1.</span>16秒<span style=\"font-weight: bold\">)</span>\n",
       "</pre>\n"
      ],
      "text/plain": [
       "  データ \u001b[32m'data2'\u001b[0m の処理が完了しました \u001b[1m(\u001b[0m処理時間: \u001b[1;36m1.\u001b[0m16秒\u001b[1m)\u001b[0m\n"
      ]
     },
     "metadata": {},
     "output_type": "display_data"
    },
    {
     "data": {
      "text/html": [
       "<pre style=\"white-space:pre;overflow-x:auto;line-height:normal;font-family:Menlo,'DejaVu Sans Mono',consolas,'Courier New',monospace\">  処理結果: DATA2\n",
       "</pre>\n"
      ],
      "text/plain": [
       "  処理結果: DATA2\n"
      ]
     },
     "metadata": {},
     "output_type": "display_data"
    },
    {
     "data": {
      "text/html": [
       "<pre style=\"white-space:pre;overflow-x:auto;line-height:normal;font-family:Menlo,'DejaVu Sans Mono',consolas,'Courier New',monospace\">  進捗: <span style=\"color: #008080; text-decoration-color: #008080; font-weight: bold\">2</span>/<span style=\"color: #008080; text-decoration-color: #008080; font-weight: bold\">5</span> 完了\n",
       "</pre>\n"
      ],
      "text/plain": [
       "  進捗: \u001b[1;36m2\u001b[0m/\u001b[1;36m5\u001b[0m 完了\n"
      ]
     },
     "metadata": {},
     "output_type": "display_data"
    },
    {
     "data": {
      "text/html": [
       "<pre style=\"white-space:pre;overflow-x:auto;line-height:normal;font-family:Menlo,'DejaVu Sans Mono',consolas,'Courier New',monospace\">\n",
       "--- 処理 <span style=\"color: #008080; text-decoration-color: #008080; font-weight: bold\">3</span>/<span style=\"color: #008080; text-decoration-color: #008080; font-weight: bold\">5</span> 回目 ---\n",
       "</pre>\n"
      ],
      "text/plain": [
       "\n",
       "--- 処理 \u001b[1;36m3\u001b[0m/\u001b[1;36m5\u001b[0m 回目 ---\n"
      ]
     },
     "metadata": {},
     "output_type": "display_data"
    },
    {
     "data": {
      "text/html": [
       "<pre style=\"white-space:pre;overflow-x:auto;line-height:normal;font-family:Menlo,'DejaVu Sans Mono',consolas,'Courier New',monospace\">  処理中のデータ: data3\n",
       "</pre>\n"
      ],
      "text/plain": [
       "  処理中のデータ: data3\n"
      ]
     },
     "metadata": {},
     "output_type": "display_data"
    },
    {
     "data": {
      "text/html": [
       "<pre style=\"white-space:pre;overflow-x:auto;line-height:normal;font-family:Menlo,'DejaVu Sans Mono',consolas,'Courier New',monospace\">  データ <span style=\"color: #008000; text-decoration-color: #008000\">'data3'</span> の処理が完了しました <span style=\"font-weight: bold\">(</span>処理時間: <span style=\"color: #008080; text-decoration-color: #008080; font-weight: bold\">0.</span>84秒<span style=\"font-weight: bold\">)</span>\n",
       "</pre>\n"
      ],
      "text/plain": [
       "  データ \u001b[32m'data3'\u001b[0m の処理が完了しました \u001b[1m(\u001b[0m処理時間: \u001b[1;36m0.\u001b[0m84秒\u001b[1m)\u001b[0m\n"
      ]
     },
     "metadata": {},
     "output_type": "display_data"
    },
    {
     "data": {
      "text/html": [
       "<pre style=\"white-space:pre;overflow-x:auto;line-height:normal;font-family:Menlo,'DejaVu Sans Mono',consolas,'Courier New',monospace\">  処理結果: DATA3\n",
       "</pre>\n"
      ],
      "text/plain": [
       "  処理結果: DATA3\n"
      ]
     },
     "metadata": {},
     "output_type": "display_data"
    },
    {
     "data": {
      "text/html": [
       "<pre style=\"white-space:pre;overflow-x:auto;line-height:normal;font-family:Menlo,'DejaVu Sans Mono',consolas,'Courier New',monospace\">  進捗: <span style=\"color: #008080; text-decoration-color: #008080; font-weight: bold\">3</span>/<span style=\"color: #008080; text-decoration-color: #008080; font-weight: bold\">5</span> 完了\n",
       "</pre>\n"
      ],
      "text/plain": [
       "  進捗: \u001b[1;36m3\u001b[0m/\u001b[1;36m5\u001b[0m 完了\n"
      ]
     },
     "metadata": {},
     "output_type": "display_data"
    },
    {
     "data": {
      "text/html": [
       "<pre style=\"white-space:pre;overflow-x:auto;line-height:normal;font-family:Menlo,'DejaVu Sans Mono',consolas,'Courier New',monospace\">\n",
       "--- 処理 <span style=\"color: #008080; text-decoration-color: #008080; font-weight: bold\">4</span>/<span style=\"color: #008080; text-decoration-color: #008080; font-weight: bold\">5</span> 回目 ---\n",
       "</pre>\n"
      ],
      "text/plain": [
       "\n",
       "--- 処理 \u001b[1;36m4\u001b[0m/\u001b[1;36m5\u001b[0m 回目 ---\n"
      ]
     },
     "metadata": {},
     "output_type": "display_data"
    },
    {
     "data": {
      "text/html": [
       "<pre style=\"white-space:pre;overflow-x:auto;line-height:normal;font-family:Menlo,'DejaVu Sans Mono',consolas,'Courier New',monospace\">  処理中のデータ: data4\n",
       "</pre>\n"
      ],
      "text/plain": [
       "  処理中のデータ: data4\n"
      ]
     },
     "metadata": {},
     "output_type": "display_data"
    },
    {
     "data": {
      "text/html": [
       "<pre style=\"white-space:pre;overflow-x:auto;line-height:normal;font-family:Menlo,'DejaVu Sans Mono',consolas,'Courier New',monospace\">  データ <span style=\"color: #008000; text-decoration-color: #008000\">'data4'</span> の処理が完了しました <span style=\"font-weight: bold\">(</span>処理時間: <span style=\"color: #008080; text-decoration-color: #008080; font-weight: bold\">0.</span>76秒<span style=\"font-weight: bold\">)</span>\n",
       "</pre>\n"
      ],
      "text/plain": [
       "  データ \u001b[32m'data4'\u001b[0m の処理が完了しました \u001b[1m(\u001b[0m処理時間: \u001b[1;36m0.\u001b[0m76秒\u001b[1m)\u001b[0m\n"
      ]
     },
     "metadata": {},
     "output_type": "display_data"
    },
    {
     "data": {
      "text/html": [
       "<pre style=\"white-space:pre;overflow-x:auto;line-height:normal;font-family:Menlo,'DejaVu Sans Mono',consolas,'Courier New',monospace\">  処理結果: DATA4\n",
       "</pre>\n"
      ],
      "text/plain": [
       "  処理結果: DATA4\n"
      ]
     },
     "metadata": {},
     "output_type": "display_data"
    },
    {
     "data": {
      "text/html": [
       "<pre style=\"white-space:pre;overflow-x:auto;line-height:normal;font-family:Menlo,'DejaVu Sans Mono',consolas,'Courier New',monospace\">  進捗: <span style=\"color: #008080; text-decoration-color: #008080; font-weight: bold\">4</span>/<span style=\"color: #008080; text-decoration-color: #008080; font-weight: bold\">5</span> 完了\n",
       "</pre>\n"
      ],
      "text/plain": [
       "  進捗: \u001b[1;36m4\u001b[0m/\u001b[1;36m5\u001b[0m 完了\n"
      ]
     },
     "metadata": {},
     "output_type": "display_data"
    },
    {
     "data": {
      "text/html": [
       "<pre style=\"white-space:pre;overflow-x:auto;line-height:normal;font-family:Menlo,'DejaVu Sans Mono',consolas,'Courier New',monospace\">\n",
       "--- 処理 <span style=\"color: #008080; text-decoration-color: #008080; font-weight: bold\">5</span>/<span style=\"color: #008080; text-decoration-color: #008080; font-weight: bold\">5</span> 回目 ---\n",
       "</pre>\n"
      ],
      "text/plain": [
       "\n",
       "--- 処理 \u001b[1;36m5\u001b[0m/\u001b[1;36m5\u001b[0m 回目 ---\n"
      ]
     },
     "metadata": {},
     "output_type": "display_data"
    },
    {
     "data": {
      "text/html": [
       "<pre style=\"white-space:pre;overflow-x:auto;line-height:normal;font-family:Menlo,'DejaVu Sans Mono',consolas,'Courier New',monospace\">  処理中のデータ: data5\n",
       "</pre>\n"
      ],
      "text/plain": [
       "  処理中のデータ: data5\n"
      ]
     },
     "metadata": {},
     "output_type": "display_data"
    },
    {
     "data": {
      "text/html": [
       "<pre style=\"white-space:pre;overflow-x:auto;line-height:normal;font-family:Menlo,'DejaVu Sans Mono',consolas,'Courier New',monospace\">  データ <span style=\"color: #008000; text-decoration-color: #008000\">'data5'</span> の処理が完了しました <span style=\"font-weight: bold\">(</span>処理時間: <span style=\"color: #008080; text-decoration-color: #008080; font-weight: bold\">0.</span>69秒<span style=\"font-weight: bold\">)</span>\n",
       "</pre>\n"
      ],
      "text/plain": [
       "  データ \u001b[32m'data5'\u001b[0m の処理が完了しました \u001b[1m(\u001b[0m処理時間: \u001b[1;36m0.\u001b[0m69秒\u001b[1m)\u001b[0m\n"
      ]
     },
     "metadata": {},
     "output_type": "display_data"
    },
    {
     "data": {
      "text/html": [
       "<pre style=\"white-space:pre;overflow-x:auto;line-height:normal;font-family:Menlo,'DejaVu Sans Mono',consolas,'Courier New',monospace\">  処理結果: DATA5\n",
       "</pre>\n"
      ],
      "text/plain": [
       "  処理結果: DATA5\n"
      ]
     },
     "metadata": {},
     "output_type": "display_data"
    },
    {
     "data": {
      "text/html": [
       "<pre style=\"white-space:pre;overflow-x:auto;line-height:normal;font-family:Menlo,'DejaVu Sans Mono',consolas,'Courier New',monospace\">  進捗: <span style=\"color: #008080; text-decoration-color: #008080; font-weight: bold\">5</span>/<span style=\"color: #008080; text-decoration-color: #008080; font-weight: bold\">5</span> 完了\n",
       "</pre>\n"
      ],
      "text/plain": [
       "  進捗: \u001b[1;36m5\u001b[0m/\u001b[1;36m5\u001b[0m 完了\n"
      ]
     },
     "metadata": {},
     "output_type": "display_data"
    },
    {
     "data": {
      "text/html": [
       "<pre style=\"white-space:pre;overflow-x:auto;line-height:normal;font-family:Menlo,'DejaVu Sans Mono',consolas,'Courier New',monospace\">\n",
       "--- 全ての処理が完了しました ---\n",
       "</pre>\n"
      ],
      "text/plain": [
       "\n",
       "--- 全ての処理が完了しました ---\n"
      ]
     },
     "metadata": {},
     "output_type": "display_data"
    },
    {
     "data": {
      "text/html": [
       "<pre style=\"white-space:pre;overflow-x:auto;line-height:normal;font-family:Menlo,'DejaVu Sans Mono',consolas,'Courier New',monospace\">最終結果:\n",
       "</pre>\n"
      ],
      "text/plain": [
       "最終結果:\n"
      ]
     },
     "metadata": {},
     "output_type": "display_data"
    },
    {
     "data": {
      "text/html": [
       "<pre style=\"white-space:pre;overflow-x:auto;line-height:normal;font-family:Menlo,'DejaVu Sans Mono',consolas,'Courier New',monospace\">  <span style=\"color: #008080; text-decoration-color: #008080; font-weight: bold\">1</span>. DATA1\n",
       "</pre>\n"
      ],
      "text/plain": [
       "  \u001b[1;36m1\u001b[0m. DATA1\n"
      ]
     },
     "metadata": {},
     "output_type": "display_data"
    },
    {
     "data": {
      "text/html": [
       "<pre style=\"white-space:pre;overflow-x:auto;line-height:normal;font-family:Menlo,'DejaVu Sans Mono',consolas,'Courier New',monospace\">  <span style=\"color: #008080; text-decoration-color: #008080; font-weight: bold\">2</span>. DATA2\n",
       "</pre>\n"
      ],
      "text/plain": [
       "  \u001b[1;36m2\u001b[0m. DATA2\n"
      ]
     },
     "metadata": {},
     "output_type": "display_data"
    },
    {
     "data": {
      "text/html": [
       "<pre style=\"white-space:pre;overflow-x:auto;line-height:normal;font-family:Menlo,'DejaVu Sans Mono',consolas,'Courier New',monospace\">  <span style=\"color: #008080; text-decoration-color: #008080; font-weight: bold\">3</span>. DATA3\n",
       "</pre>\n"
      ],
      "text/plain": [
       "  \u001b[1;36m3\u001b[0m. DATA3\n"
      ]
     },
     "metadata": {},
     "output_type": "display_data"
    },
    {
     "data": {
      "text/html": [
       "<pre style=\"white-space:pre;overflow-x:auto;line-height:normal;font-family:Menlo,'DejaVu Sans Mono',consolas,'Courier New',monospace\">  <span style=\"color: #008080; text-decoration-color: #008080; font-weight: bold\">4</span>. DATA4\n",
       "</pre>\n"
      ],
      "text/plain": [
       "  \u001b[1;36m4\u001b[0m. DATA4\n"
      ]
     },
     "metadata": {},
     "output_type": "display_data"
    },
    {
     "data": {
      "text/html": [
       "<pre style=\"white-space:pre;overflow-x:auto;line-height:normal;font-family:Menlo,'DejaVu Sans Mono',consolas,'Courier New',monospace\">  <span style=\"color: #008080; text-decoration-color: #008080; font-weight: bold\">5</span>. DATA5\n",
       "</pre>\n"
      ],
      "text/plain": [
       "  \u001b[1;36m5\u001b[0m. DATA5\n"
      ]
     },
     "metadata": {},
     "output_type": "display_data"
    }
   ],
   "source": [
    "import random\n",
    "import time\n",
    "\n",
    "def process_data(data):\n",
    "    \"\"\"\n",
    "    シミュレーション: データの処理を行う関数。\n",
    "    ここでは、ランダムな時間だけ処理に時間がかかると仮定します。\n",
    "    \"\"\"\n",
    "    processing_time = random.uniform(0.5, 2.0)  # 0.5秒から2秒のランダムな処理時間\n",
    "    time.sleep(processing_time)\n",
    "    print(f\"  データ '{data}' の処理が完了しました (処理時間: {processing_time:.2f}秒)\")\n",
    "    return data.upper()  # 処理結果として大文字に変換して返す\n",
    "\n",
    "def main():\n",
    "    \"\"\"\n",
    "    range() を使った実践的なサンプルコード。\n",
    "    複数のデータを処理し、その進捗状況を表示します。\n",
    "    \"\"\"\n",
    "    data_list = [\"data1\", \"data2\", \"data3\", \"data4\", \"data5\"]\n",
    "    total_data = len(data_list)\n",
    "\n",
    "    print(f\"これから {total_data} 個のデータを処理します。\")\n",
    "\n",
    "    results = []\n",
    "    for i in range(total_data):\n",
    "        print(f\"\\n--- 処理 {i+1}/{total_data} 回目 ---\")\n",
    "        current_data = data_list[i]\n",
    "        print(f\"  処理中のデータ: {current_data}\")\n",
    "\n",
    "        # データの処理\n",
    "        processed_data = process_data(current_data)\n",
    "        results.append(processed_data)\n",
    "\n",
    "        print(f\"  処理結果: {processed_data}\")\n",
    "        print(f\"  進捗: {i+1}/{total_data} 完了\")\n",
    "\n",
    "    print(\"\\n--- 全ての処理が完了しました ---\")\n",
    "    print(\"最終結果:\")\n",
    "    for i, result in enumerate(results):\n",
    "        print(f\"  {i+1}. {result}\")\n",
    "\n",
    "if __name__ == \"__main__\":\n",
    "    main()"
   ]
  }
 ],
 "metadata": {
  "kernelspec": {
   "display_name": "Python 3",
   "language": "python",
   "name": "python3"
  },
  "language_info": {
   "codemirror_mode": {
    "name": "ipython",
    "version": 3
   },
   "file_extension": ".py",
   "mimetype": "text/x-python",
   "name": "python",
   "nbconvert_exporter": "python",
   "pygments_lexer": "ipython3",
   "version": "3.13.2"
  }
 },
 "nbformat": 4,
 "nbformat_minor": 2
}
