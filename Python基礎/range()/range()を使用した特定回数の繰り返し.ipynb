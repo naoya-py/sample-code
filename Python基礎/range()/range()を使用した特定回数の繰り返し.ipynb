{
 "cells": [
  {
   "cell_type": "code",
   "execution_count": 1,
   "metadata": {},
   "outputs": [
    {
     "name": "stdout",
     "output_type": "stream",
     "text": [
      "1回目の処理\n",
      "2回目の処理\n",
      "3回目の処理\n"
     ]
    }
   ],
   "source": [
    "# range()の基礎となる概念\n",
    "for i in range(3):  # 3回繰り返す\n",
    "    print(f\"{i+1}回目の処理\")"
   ]
  },
  {
   "cell_type": "code",
   "execution_count": 2,
   "metadata": {},
   "outputs": [
    {
     "name": "stdout",
     "output_type": "stream",
     "text": [
      "これから 5 個のデータを処理します。\n",
      "\n",
      "--- 処理 1/5 回目 ---\n",
      "  処理中のデータ: data1\n",
      "  データ 'data1' の処理が完了しました (処理時間: 0.79秒)\n",
      "  処理結果: DATA1\n",
      "  進捗: 1/5 完了\n",
      "\n",
      "--- 処理 2/5 回目 ---\n",
      "  処理中のデータ: data2\n",
      "  データ 'data2' の処理が完了しました (処理時間: 1.25秒)\n",
      "  処理結果: DATA2\n",
      "  進捗: 2/5 完了\n",
      "\n",
      "--- 処理 3/5 回目 ---\n",
      "  処理中のデータ: data3\n",
      "  データ 'data3' の処理が完了しました (処理時間: 0.55秒)\n",
      "  処理結果: DATA3\n",
      "  進捗: 3/5 完了\n",
      "\n",
      "--- 処理 4/5 回目 ---\n",
      "  処理中のデータ: data4\n",
      "  データ 'data4' の処理が完了しました (処理時間: 0.63秒)\n",
      "  処理結果: DATA4\n",
      "  進捗: 4/5 完了\n",
      "\n",
      "--- 処理 5/5 回目 ---\n",
      "  処理中のデータ: data5\n",
      "  データ 'data5' の処理が完了しました (処理時間: 1.15秒)\n",
      "  処理結果: DATA5\n",
      "  進捗: 5/5 完了\n",
      "\n",
      "--- 全ての処理が完了しました ---\n",
      "最終結果:\n",
      "  1. DATA1\n",
      "  2. DATA2\n",
      "  3. DATA3\n",
      "  4. DATA4\n",
      "  5. DATA5\n"
     ]
    }
   ],
   "source": [
    "import random\n",
    "import time\n",
    "\n",
    "def process_data(data):\n",
    "    \"\"\"\n",
    "    シミュレーション: データの処理を行う関数。\n",
    "    ここでは、ランダムな時間だけ処理に時間がかかると仮定します。\n",
    "    \"\"\"\n",
    "    processing_time = random.uniform(0.5, 2.0)  # 0.5秒から2秒のランダムな処理時間\n",
    "    time.sleep(processing_time)\n",
    "    print(f\"  データ '{data}' の処理が完了しました (処理時間: {processing_time:.2f}秒)\")\n",
    "    return data.upper()  # 処理結果として大文字に変換して返す\n",
    "\n",
    "def main():\n",
    "    \"\"\"\n",
    "    range() を使った実践的なサンプルコード。\n",
    "    複数のデータを処理し、その進捗状況を表示します。\n",
    "    \"\"\"\n",
    "    data_list = [\"data1\", \"data2\", \"data3\", \"data4\", \"data5\"]\n",
    "    total_data = len(data_list)\n",
    "\n",
    "    print(f\"これから {total_data} 個のデータを処理します。\")\n",
    "\n",
    "    results = []\n",
    "    for i in range(total_data):\n",
    "        print(f\"\\n--- 処理 {i+1}/{total_data} 回目 ---\")\n",
    "        current_data = data_list[i]\n",
    "        print(f\"  処理中のデータ: {current_data}\")\n",
    "\n",
    "        # データの処理\n",
    "        processed_data = process_data(current_data)\n",
    "        results.append(processed_data)\n",
    "\n",
    "        print(f\"  処理結果: {processed_data}\")\n",
    "        print(f\"  進捗: {i+1}/{total_data} 完了\")\n",
    "\n",
    "    print(\"\\n--- 全ての処理が完了しました ---\")\n",
    "    print(\"最終結果:\")\n",
    "    for i, result in enumerate(results):\n",
    "        print(f\"  {i+1}. {result}\")\n",
    "\n",
    "if __name__ == \"__main__\":\n",
    "    main()"
   ]
  },
  {
   "cell_type": "code",
   "execution_count": null,
   "metadata": {},
   "outputs": [],
   "source": []
  }
 ],
 "metadata": {
  "kernelspec": {
   "display_name": "Python 3",
   "language": "python",
   "name": "python3"
  },
  "language_info": {
   "codemirror_mode": {
    "name": "ipython",
    "version": 3
   },
   "file_extension": ".py",
   "mimetype": "text/x-python",
   "name": "python",
   "nbconvert_exporter": "python",
   "pygments_lexer": "ipython3",
   "version": "3.13.2"
  }
 },
 "nbformat": 4,
 "nbformat_minor": 2
}
