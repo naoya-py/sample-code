{
 "cells": [
  {
   "cell_type": "code",
   "execution_count": 1,
   "metadata": {},
   "outputs": [
    {
     "name": "stdout",
     "output_type": "stream",
     "text": [
      "パスワード強度: 弱い\n"
     ]
    }
   ],
   "source": [
    "# 例1\n",
    "password = input(\"パスワードを入力: \")\n",
    "length = len(password)\n",
    "\n",
    "if length < 8:\n",
    "    strength = \"弱い\"\n",
    "elif length < 12:\n",
    "    strength = \"普通\"\n",
    "else:\n",
    "    strength = \"強い\"\n",
    "\n",
    "print(f\"パスワード強度: {strength}\")"
   ]
  },
  {
   "cell_type": "code",
   "execution_count": 1,
   "metadata": {},
   "outputs": [
    {
     "name": "stdout",
     "output_type": "stream",
     "text": [
      "パスワード強度: 強い\n"
     ]
    }
   ],
   "source": [
    "while True:\n",
    "    password = input(\"パスワードを入力: \")\n",
    "    length = len(password)\n",
    "\n",
    "    if length < 8:\n",
    "        print(\"パスワードは8文字以上で入力してください。\")\n",
    "        continue  # ループの先頭に戻って再入力を促す\n",
    "    elif length < 12:\n",
    "        strength = \"普通\"\n",
    "    else:\n",
    "        strength = \"強い\"\n",
    "\n",
    "    print(f\"パスワード強度: {strength}\")\n",
    "    break # 8文字以上であれば、ループを抜ける"
   ]
  },
  {
   "cell_type": "code",
   "execution_count": null,
   "metadata": {},
   "outputs": [],
   "source": []
  }
 ],
 "metadata": {
  "kernelspec": {
   "display_name": "Python 3",
   "language": "python",
   "name": "python3"
  },
  "language_info": {
   "codemirror_mode": {
    "name": "ipython",
    "version": 3
   },
   "file_extension": ".py",
   "mimetype": "text/x-python",
   "name": "python",
   "nbconvert_exporter": "python",
   "pygments_lexer": "ipython3",
   "version": "3.13.2"
  }
 },
 "nbformat": 4,
 "nbformat_minor": 2
}
